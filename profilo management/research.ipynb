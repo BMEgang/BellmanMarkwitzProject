{
 "cells": [
  {
   "cell_type": "code",
   "execution_count": 1,
   "id": "initial_id",
   "metadata": {
    "collapsed": true,
    "ExecuteTime": {
     "end_time": "2023-11-11T16:09:09.668059Z",
     "start_time": "2023-11-11T16:09:06.773962Z"
    }
   },
   "outputs": [],
   "source": [
    "import yfinance as yf\n",
    "import torch\n",
    "import torch.nn as nn\n",
    "import torch.optim as optim\n",
    "from sklearn.preprocessing import StandardScaler\n",
    "from sklearn.model_selection import train_test_split\n",
    "import pandas as pd"
   ]
  },
  {
   "cell_type": "code",
   "execution_count": 2,
   "outputs": [
    {
     "name": "stdout",
     "output_type": "stream",
     "text": [
      "[*********************100%%**********************]  30 of 30 completed\n"
     ]
    }
   ],
   "source": [
    "tickers = [\"MMM\", \"AXP\", \"AAPL\", \"BA\", \"CAT\", \"CVX\", \"CSCO\", \"KO\", \"DD\", \"XOM\", \"GE\", \"GS\", \"HD\", \"IBM\", \"INTC\", \"JNJ\", \"JPM\", \"MCD\", \"MRK\", \"MSFT\", \"NKE\", \"PFE\", \"PG\", \"TRV\", \"UNH\", \"RTX\", \"VZ\", \"V\", \"WMT\", \"DIS\"]\n",
    "data = yf.download(tickers, start=\"2009-01-01\", end=\"2018-09-30\")['Close']"
   ],
   "metadata": {
    "collapsed": false,
    "ExecuteTime": {
     "end_time": "2023-11-11T16:09:16.590085Z",
     "start_time": "2023-11-11T16:09:13.159953Z"
    }
   },
   "id": "4e7ac833183fee4a"
  },
  {
   "cell_type": "code",
   "execution_count": 3,
   "outputs": [
    {
     "data": {
      "text/plain": "                AAPL        AXP         BA        CAT       CSCO        CVX  \\\nDate                                                                          \n2009-01-02  3.241071  19.330000  45.250000  46.910000  16.959999  76.519997   \n2009-01-05  3.377857  19.950001  46.169998  46.080002  17.110001  76.660004   \n2009-01-06  3.322143  21.070000  46.310001  45.799999  17.790001  77.349998   \n2009-01-07  3.250357  20.010000  44.759998  43.669998  17.320000  73.959999   \n2009-01-08  3.310714  20.040001  44.790001  44.020000  17.540001  74.239998   \n\n                   DD        DIS          GE         GS  ...      NKE  \\\nDate                                                     ...            \n2009-01-02  21.932587  23.920000  102.504051  86.760002  ...  13.2650   \n2009-01-05  21.420210  23.500000   99.861885  88.779999  ...  13.3600   \n2009-01-06  22.843479  24.309999  101.243019  88.709999  ...  13.0900   \n2009-01-07  22.886177  23.180000   96.739326  84.500000  ...  12.6150   \n2009-01-08  22.501896  22.900000   96.919472  85.410004  ...  12.8475   \n\n                  PFE         PG        RTX        TRV        UNH        V  \\\nDate                                                                         \n2009-01-02  17.333965  62.799999  34.581497  45.200001  27.590000  13.3600   \n2009-01-05  17.229603  62.349998  34.172436  44.529999  27.139999  13.4550   \n2009-01-06  16.888046  62.169998  34.537445  43.169998  26.500000  14.4025   \n2009-01-07  16.593927  61.080002  33.681561  41.459999  26.299999  14.0900   \n2009-01-08  16.745731  60.410000  33.675266  42.230000  26.709999  13.9400   \n\n                   VZ        WMT        XOM  \nDate                                         \n2009-01-02  32.488476  57.180000  81.639999  \n2009-01-05  30.462635  56.520000  81.629997  \n2009-01-06  29.974932  56.020000  80.300003  \n2009-01-07  29.918659  55.540001  78.250000  \n2009-01-08  30.378225  51.380001  79.089996  \n\n[5 rows x 30 columns]",
      "text/html": "<div>\n<style scoped>\n    .dataframe tbody tr th:only-of-type {\n        vertical-align: middle;\n    }\n\n    .dataframe tbody tr th {\n        vertical-align: top;\n    }\n\n    .dataframe thead th {\n        text-align: right;\n    }\n</style>\n<table border=\"1\" class=\"dataframe\">\n  <thead>\n    <tr style=\"text-align: right;\">\n      <th></th>\n      <th>AAPL</th>\n      <th>AXP</th>\n      <th>BA</th>\n      <th>CAT</th>\n      <th>CSCO</th>\n      <th>CVX</th>\n      <th>DD</th>\n      <th>DIS</th>\n      <th>GE</th>\n      <th>GS</th>\n      <th>...</th>\n      <th>NKE</th>\n      <th>PFE</th>\n      <th>PG</th>\n      <th>RTX</th>\n      <th>TRV</th>\n      <th>UNH</th>\n      <th>V</th>\n      <th>VZ</th>\n      <th>WMT</th>\n      <th>XOM</th>\n    </tr>\n    <tr>\n      <th>Date</th>\n      <th></th>\n      <th></th>\n      <th></th>\n      <th></th>\n      <th></th>\n      <th></th>\n      <th></th>\n      <th></th>\n      <th></th>\n      <th></th>\n      <th></th>\n      <th></th>\n      <th></th>\n      <th></th>\n      <th></th>\n      <th></th>\n      <th></th>\n      <th></th>\n      <th></th>\n      <th></th>\n      <th></th>\n    </tr>\n  </thead>\n  <tbody>\n    <tr>\n      <th>2009-01-02</th>\n      <td>3.241071</td>\n      <td>19.330000</td>\n      <td>45.250000</td>\n      <td>46.910000</td>\n      <td>16.959999</td>\n      <td>76.519997</td>\n      <td>21.932587</td>\n      <td>23.920000</td>\n      <td>102.504051</td>\n      <td>86.760002</td>\n      <td>...</td>\n      <td>13.2650</td>\n      <td>17.333965</td>\n      <td>62.799999</td>\n      <td>34.581497</td>\n      <td>45.200001</td>\n      <td>27.590000</td>\n      <td>13.3600</td>\n      <td>32.488476</td>\n      <td>57.180000</td>\n      <td>81.639999</td>\n    </tr>\n    <tr>\n      <th>2009-01-05</th>\n      <td>3.377857</td>\n      <td>19.950001</td>\n      <td>46.169998</td>\n      <td>46.080002</td>\n      <td>17.110001</td>\n      <td>76.660004</td>\n      <td>21.420210</td>\n      <td>23.500000</td>\n      <td>99.861885</td>\n      <td>88.779999</td>\n      <td>...</td>\n      <td>13.3600</td>\n      <td>17.229603</td>\n      <td>62.349998</td>\n      <td>34.172436</td>\n      <td>44.529999</td>\n      <td>27.139999</td>\n      <td>13.4550</td>\n      <td>30.462635</td>\n      <td>56.520000</td>\n      <td>81.629997</td>\n    </tr>\n    <tr>\n      <th>2009-01-06</th>\n      <td>3.322143</td>\n      <td>21.070000</td>\n      <td>46.310001</td>\n      <td>45.799999</td>\n      <td>17.790001</td>\n      <td>77.349998</td>\n      <td>22.843479</td>\n      <td>24.309999</td>\n      <td>101.243019</td>\n      <td>88.709999</td>\n      <td>...</td>\n      <td>13.0900</td>\n      <td>16.888046</td>\n      <td>62.169998</td>\n      <td>34.537445</td>\n      <td>43.169998</td>\n      <td>26.500000</td>\n      <td>14.4025</td>\n      <td>29.974932</td>\n      <td>56.020000</td>\n      <td>80.300003</td>\n    </tr>\n    <tr>\n      <th>2009-01-07</th>\n      <td>3.250357</td>\n      <td>20.010000</td>\n      <td>44.759998</td>\n      <td>43.669998</td>\n      <td>17.320000</td>\n      <td>73.959999</td>\n      <td>22.886177</td>\n      <td>23.180000</td>\n      <td>96.739326</td>\n      <td>84.500000</td>\n      <td>...</td>\n      <td>12.6150</td>\n      <td>16.593927</td>\n      <td>61.080002</td>\n      <td>33.681561</td>\n      <td>41.459999</td>\n      <td>26.299999</td>\n      <td>14.0900</td>\n      <td>29.918659</td>\n      <td>55.540001</td>\n      <td>78.250000</td>\n    </tr>\n    <tr>\n      <th>2009-01-08</th>\n      <td>3.310714</td>\n      <td>20.040001</td>\n      <td>44.790001</td>\n      <td>44.020000</td>\n      <td>17.540001</td>\n      <td>74.239998</td>\n      <td>22.501896</td>\n      <td>22.900000</td>\n      <td>96.919472</td>\n      <td>85.410004</td>\n      <td>...</td>\n      <td>12.8475</td>\n      <td>16.745731</td>\n      <td>60.410000</td>\n      <td>33.675266</td>\n      <td>42.230000</td>\n      <td>26.709999</td>\n      <td>13.9400</td>\n      <td>30.378225</td>\n      <td>51.380001</td>\n      <td>79.089996</td>\n    </tr>\n  </tbody>\n</table>\n<p>5 rows × 30 columns</p>\n</div>"
     },
     "execution_count": 3,
     "metadata": {},
     "output_type": "execute_result"
    }
   ],
   "source": [
    "data.head()"
   ],
   "metadata": {
    "collapsed": false,
    "ExecuteTime": {
     "end_time": "2023-11-11T16:09:29.575325Z",
     "start_time": "2023-11-11T16:09:29.526262Z"
    }
   },
   "id": "263e8070b5832648"
  },
  {
   "cell_type": "code",
   "execution_count": 4,
   "outputs": [
    {
     "name": "stdout",
     "output_type": "stream",
     "text": [
      "Expected annual return: 29.3%\n",
      "Annual volatility: 18.4%\n",
      "Sharpe Ratio: 1.48\n"
     ]
    },
    {
     "data": {
      "text/plain": "(0.2926688113499274, 0.18437264145307525, 1.4789006069499981)"
     },
     "execution_count": 4,
     "metadata": {},
     "output_type": "execute_result"
    }
   ],
   "source": [
    "from pypfopt.efficient_frontier import EfficientFrontier\n",
    "from pypfopt import risk_models\n",
    "from pypfopt import expected_returns\n",
    "\n",
    "# Calculate expected returns and sample covariance\n",
    "mu = expected_returns.mean_historical_return(data)\n",
    "S = risk_models.sample_cov(data)\n",
    "\n",
    "# Optimize for maximal Sharpe ratio\n",
    "ef = EfficientFrontier(mu, S)\n",
    "weights = ef.max_sharpe()\n",
    "cleaned_weights = ef.clean_weights()\n",
    "ef.portfolio_performance(verbose=True)\n"
   ],
   "metadata": {
    "collapsed": false,
    "ExecuteTime": {
     "end_time": "2023-11-11T16:34:14.211463Z",
     "start_time": "2023-11-11T16:34:13.573456Z"
    }
   },
   "id": "dbbfcf1a84b83126"
  },
  {
   "cell_type": "code",
   "execution_count": 5,
   "outputs": [],
   "source": [
    "data_weights = data.copy()\n",
    "for ticker in tickers:\n",
    "    data_weights[ticker + '_weight'] = cleaned_weights[ticker]\n"
   ],
   "metadata": {
    "collapsed": false,
    "ExecuteTime": {
     "end_time": "2023-11-11T16:34:32.125084Z",
     "start_time": "2023-11-11T16:34:32.111579Z"
    }
   },
   "id": "a000e137607259f7"
  },
  {
   "cell_type": "code",
   "execution_count": 6,
   "outputs": [
    {
     "data": {
      "text/plain": "                 AAPL         AXP          BA         CAT       CSCO  \\\nDate                                                                   \n2009-01-02   3.241071   19.330000   45.250000   46.910000  16.959999   \n2009-01-05   3.377857   19.950001   46.169998   46.080002  17.110001   \n2009-01-06   3.322143   21.070000   46.310001   45.799999  17.790001   \n2009-01-07   3.250357   20.010000   44.759998   43.669998  17.320000   \n2009-01-08   3.310714   20.040001   44.790001   44.020000  17.540001   \n...               ...         ...         ...         ...        ...   \n2018-09-24  55.197498  109.849998  367.989990  154.000000  48.439999   \n2018-09-25  55.547501  109.870003  367.230011  154.089996  48.470001   \n2018-09-26  55.105000  108.010002  365.029999  153.169998  48.410000   \n2018-09-27  56.237499  107.849998  367.390015  152.470001  48.330002   \n2018-09-28  56.435001  106.489998  371.899994  152.490005  48.650002   \n\n                   CVX         DD         DIS          GE          GS  ...  \\\nDate                                                                   ...   \n2009-01-02   76.519997  21.932587   23.920000  102.504051   86.760002  ...   \n2009-01-05   76.660004  21.420210   23.500000   99.861885   88.779999  ...   \n2009-01-06   77.349998  22.843479   24.309999  101.243019   88.709999  ...   \n2009-01-07   73.959999  22.886177   23.180000   96.739326   84.500000  ...   \n2009-01-08   74.239998  22.501896   22.900000   96.919472   85.410004  ...   \n...                ...        ...         ...         ...         ...  ...   \n2018-09-24  122.620003  97.066994  112.769997   70.497810  232.899994  ...   \n2018-09-25  123.370003  96.711182  113.629997   67.675491  232.500000  ...   \n2018-09-26  121.949997  95.202515  115.209999   68.396088  228.880005  ...   \n2018-09-27  122.470001  92.982216  116.040001   69.236771  227.740005  ...   \n2018-09-28  122.279999  91.530479  116.940002   67.795593  224.240005  ...   \n\n            NKE_weight  PFE_weight  PG_weight  TRV_weight  UNH_weight  \\\nDate                                                                    \n2009-01-02         0.0         0.0        0.0         0.0     0.17714   \n2009-01-05         0.0         0.0        0.0         0.0     0.17714   \n2009-01-06         0.0         0.0        0.0         0.0     0.17714   \n2009-01-07         0.0         0.0        0.0         0.0     0.17714   \n2009-01-08         0.0         0.0        0.0         0.0     0.17714   \n...                ...         ...        ...         ...         ...   \n2018-09-24         0.0         0.0        0.0         0.0     0.17714   \n2018-09-25         0.0         0.0        0.0         0.0     0.17714   \n2018-09-26         0.0         0.0        0.0         0.0     0.17714   \n2018-09-27         0.0         0.0        0.0         0.0     0.17714   \n2018-09-28         0.0         0.0        0.0         0.0     0.17714   \n\n            RTX_weight  VZ_weight  V_weight  WMT_weight  DIS_weight  \nDate                                                                 \n2009-01-02         0.0        0.0   0.20605         0.0         0.0  \n2009-01-05         0.0        0.0   0.20605         0.0         0.0  \n2009-01-06         0.0        0.0   0.20605         0.0         0.0  \n2009-01-07         0.0        0.0   0.20605         0.0         0.0  \n2009-01-08         0.0        0.0   0.20605         0.0         0.0  \n...                ...        ...       ...         ...         ...  \n2018-09-24         0.0        0.0   0.20605         0.0         0.0  \n2018-09-25         0.0        0.0   0.20605         0.0         0.0  \n2018-09-26         0.0        0.0   0.20605         0.0         0.0  \n2018-09-27         0.0        0.0   0.20605         0.0         0.0  \n2018-09-28         0.0        0.0   0.20605         0.0         0.0  \n\n[2453 rows x 60 columns]",
      "text/html": "<div>\n<style scoped>\n    .dataframe tbody tr th:only-of-type {\n        vertical-align: middle;\n    }\n\n    .dataframe tbody tr th {\n        vertical-align: top;\n    }\n\n    .dataframe thead th {\n        text-align: right;\n    }\n</style>\n<table border=\"1\" class=\"dataframe\">\n  <thead>\n    <tr style=\"text-align: right;\">\n      <th></th>\n      <th>AAPL</th>\n      <th>AXP</th>\n      <th>BA</th>\n      <th>CAT</th>\n      <th>CSCO</th>\n      <th>CVX</th>\n      <th>DD</th>\n      <th>DIS</th>\n      <th>GE</th>\n      <th>GS</th>\n      <th>...</th>\n      <th>NKE_weight</th>\n      <th>PFE_weight</th>\n      <th>PG_weight</th>\n      <th>TRV_weight</th>\n      <th>UNH_weight</th>\n      <th>RTX_weight</th>\n      <th>VZ_weight</th>\n      <th>V_weight</th>\n      <th>WMT_weight</th>\n      <th>DIS_weight</th>\n    </tr>\n    <tr>\n      <th>Date</th>\n      <th></th>\n      <th></th>\n      <th></th>\n      <th></th>\n      <th></th>\n      <th></th>\n      <th></th>\n      <th></th>\n      <th></th>\n      <th></th>\n      <th></th>\n      <th></th>\n      <th></th>\n      <th></th>\n      <th></th>\n      <th></th>\n      <th></th>\n      <th></th>\n      <th></th>\n      <th></th>\n      <th></th>\n    </tr>\n  </thead>\n  <tbody>\n    <tr>\n      <th>2009-01-02</th>\n      <td>3.241071</td>\n      <td>19.330000</td>\n      <td>45.250000</td>\n      <td>46.910000</td>\n      <td>16.959999</td>\n      <td>76.519997</td>\n      <td>21.932587</td>\n      <td>23.920000</td>\n      <td>102.504051</td>\n      <td>86.760002</td>\n      <td>...</td>\n      <td>0.0</td>\n      <td>0.0</td>\n      <td>0.0</td>\n      <td>0.0</td>\n      <td>0.17714</td>\n      <td>0.0</td>\n      <td>0.0</td>\n      <td>0.20605</td>\n      <td>0.0</td>\n      <td>0.0</td>\n    </tr>\n    <tr>\n      <th>2009-01-05</th>\n      <td>3.377857</td>\n      <td>19.950001</td>\n      <td>46.169998</td>\n      <td>46.080002</td>\n      <td>17.110001</td>\n      <td>76.660004</td>\n      <td>21.420210</td>\n      <td>23.500000</td>\n      <td>99.861885</td>\n      <td>88.779999</td>\n      <td>...</td>\n      <td>0.0</td>\n      <td>0.0</td>\n      <td>0.0</td>\n      <td>0.0</td>\n      <td>0.17714</td>\n      <td>0.0</td>\n      <td>0.0</td>\n      <td>0.20605</td>\n      <td>0.0</td>\n      <td>0.0</td>\n    </tr>\n    <tr>\n      <th>2009-01-06</th>\n      <td>3.322143</td>\n      <td>21.070000</td>\n      <td>46.310001</td>\n      <td>45.799999</td>\n      <td>17.790001</td>\n      <td>77.349998</td>\n      <td>22.843479</td>\n      <td>24.309999</td>\n      <td>101.243019</td>\n      <td>88.709999</td>\n      <td>...</td>\n      <td>0.0</td>\n      <td>0.0</td>\n      <td>0.0</td>\n      <td>0.0</td>\n      <td>0.17714</td>\n      <td>0.0</td>\n      <td>0.0</td>\n      <td>0.20605</td>\n      <td>0.0</td>\n      <td>0.0</td>\n    </tr>\n    <tr>\n      <th>2009-01-07</th>\n      <td>3.250357</td>\n      <td>20.010000</td>\n      <td>44.759998</td>\n      <td>43.669998</td>\n      <td>17.320000</td>\n      <td>73.959999</td>\n      <td>22.886177</td>\n      <td>23.180000</td>\n      <td>96.739326</td>\n      <td>84.500000</td>\n      <td>...</td>\n      <td>0.0</td>\n      <td>0.0</td>\n      <td>0.0</td>\n      <td>0.0</td>\n      <td>0.17714</td>\n      <td>0.0</td>\n      <td>0.0</td>\n      <td>0.20605</td>\n      <td>0.0</td>\n      <td>0.0</td>\n    </tr>\n    <tr>\n      <th>2009-01-08</th>\n      <td>3.310714</td>\n      <td>20.040001</td>\n      <td>44.790001</td>\n      <td>44.020000</td>\n      <td>17.540001</td>\n      <td>74.239998</td>\n      <td>22.501896</td>\n      <td>22.900000</td>\n      <td>96.919472</td>\n      <td>85.410004</td>\n      <td>...</td>\n      <td>0.0</td>\n      <td>0.0</td>\n      <td>0.0</td>\n      <td>0.0</td>\n      <td>0.17714</td>\n      <td>0.0</td>\n      <td>0.0</td>\n      <td>0.20605</td>\n      <td>0.0</td>\n      <td>0.0</td>\n    </tr>\n    <tr>\n      <th>...</th>\n      <td>...</td>\n      <td>...</td>\n      <td>...</td>\n      <td>...</td>\n      <td>...</td>\n      <td>...</td>\n      <td>...</td>\n      <td>...</td>\n      <td>...</td>\n      <td>...</td>\n      <td>...</td>\n      <td>...</td>\n      <td>...</td>\n      <td>...</td>\n      <td>...</td>\n      <td>...</td>\n      <td>...</td>\n      <td>...</td>\n      <td>...</td>\n      <td>...</td>\n      <td>...</td>\n    </tr>\n    <tr>\n      <th>2018-09-24</th>\n      <td>55.197498</td>\n      <td>109.849998</td>\n      <td>367.989990</td>\n      <td>154.000000</td>\n      <td>48.439999</td>\n      <td>122.620003</td>\n      <td>97.066994</td>\n      <td>112.769997</td>\n      <td>70.497810</td>\n      <td>232.899994</td>\n      <td>...</td>\n      <td>0.0</td>\n      <td>0.0</td>\n      <td>0.0</td>\n      <td>0.0</td>\n      <td>0.17714</td>\n      <td>0.0</td>\n      <td>0.0</td>\n      <td>0.20605</td>\n      <td>0.0</td>\n      <td>0.0</td>\n    </tr>\n    <tr>\n      <th>2018-09-25</th>\n      <td>55.547501</td>\n      <td>109.870003</td>\n      <td>367.230011</td>\n      <td>154.089996</td>\n      <td>48.470001</td>\n      <td>123.370003</td>\n      <td>96.711182</td>\n      <td>113.629997</td>\n      <td>67.675491</td>\n      <td>232.500000</td>\n      <td>...</td>\n      <td>0.0</td>\n      <td>0.0</td>\n      <td>0.0</td>\n      <td>0.0</td>\n      <td>0.17714</td>\n      <td>0.0</td>\n      <td>0.0</td>\n      <td>0.20605</td>\n      <td>0.0</td>\n      <td>0.0</td>\n    </tr>\n    <tr>\n      <th>2018-09-26</th>\n      <td>55.105000</td>\n      <td>108.010002</td>\n      <td>365.029999</td>\n      <td>153.169998</td>\n      <td>48.410000</td>\n      <td>121.949997</td>\n      <td>95.202515</td>\n      <td>115.209999</td>\n      <td>68.396088</td>\n      <td>228.880005</td>\n      <td>...</td>\n      <td>0.0</td>\n      <td>0.0</td>\n      <td>0.0</td>\n      <td>0.0</td>\n      <td>0.17714</td>\n      <td>0.0</td>\n      <td>0.0</td>\n      <td>0.20605</td>\n      <td>0.0</td>\n      <td>0.0</td>\n    </tr>\n    <tr>\n      <th>2018-09-27</th>\n      <td>56.237499</td>\n      <td>107.849998</td>\n      <td>367.390015</td>\n      <td>152.470001</td>\n      <td>48.330002</td>\n      <td>122.470001</td>\n      <td>92.982216</td>\n      <td>116.040001</td>\n      <td>69.236771</td>\n      <td>227.740005</td>\n      <td>...</td>\n      <td>0.0</td>\n      <td>0.0</td>\n      <td>0.0</td>\n      <td>0.0</td>\n      <td>0.17714</td>\n      <td>0.0</td>\n      <td>0.0</td>\n      <td>0.20605</td>\n      <td>0.0</td>\n      <td>0.0</td>\n    </tr>\n    <tr>\n      <th>2018-09-28</th>\n      <td>56.435001</td>\n      <td>106.489998</td>\n      <td>371.899994</td>\n      <td>152.490005</td>\n      <td>48.650002</td>\n      <td>122.279999</td>\n      <td>91.530479</td>\n      <td>116.940002</td>\n      <td>67.795593</td>\n      <td>224.240005</td>\n      <td>...</td>\n      <td>0.0</td>\n      <td>0.0</td>\n      <td>0.0</td>\n      <td>0.0</td>\n      <td>0.17714</td>\n      <td>0.0</td>\n      <td>0.0</td>\n      <td>0.20605</td>\n      <td>0.0</td>\n      <td>0.0</td>\n    </tr>\n  </tbody>\n</table>\n<p>2453 rows × 60 columns</p>\n</div>"
     },
     "execution_count": 6,
     "metadata": {},
     "output_type": "execute_result"
    }
   ],
   "source": [
    "data_weights"
   ],
   "metadata": {
    "collapsed": false,
    "ExecuteTime": {
     "end_time": "2023-11-11T16:34:42.297714Z",
     "start_time": "2023-11-11T16:34:42.263383Z"
    }
   },
   "id": "146130e368a6dbf2"
  },
  {
   "cell_type": "code",
   "execution_count": null,
   "outputs": [],
   "source": [
    "train = data[:'2015-01-01']\n",
    "validation = data['2015-01-01':'2016-01-01']\n",
    "test = data['2016-01-01':]"
   ],
   "metadata": {
    "collapsed": false
   },
   "id": "292bb4779680bdf"
  }
 ],
 "metadata": {
  "kernelspec": {
   "display_name": "Python 3",
   "language": "python",
   "name": "python3"
  },
  "language_info": {
   "codemirror_mode": {
    "name": "ipython",
    "version": 2
   },
   "file_extension": ".py",
   "mimetype": "text/x-python",
   "name": "python",
   "nbconvert_exporter": "python",
   "pygments_lexer": "ipython2",
   "version": "2.7.6"
  }
 },
 "nbformat": 4,
 "nbformat_minor": 5
}
